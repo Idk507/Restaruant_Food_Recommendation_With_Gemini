{
 "cells": [
  {
   "cell_type": "code",
   "execution_count": null,
   "id": "45729fb6",
   "metadata": {},
   "outputs": [],
   "source": [
    "\n",
    "import google.generativeai as genai\n",
    "import os\n",
    "import re\n",
    "from langchain.prompts import PromptTemplate\n",
    "from langchain.llms import OpenAI\n",
    "from langchain.chains import LLMChain\n",
    "GOOGLE_API_KEY= \"\"\n",
    "genai.configure(api_key=GOOGLE_API_KEY)"
   ]
  },
  {
   "cell_type": "code",
   "execution_count": 4,
   "id": "48032646",
   "metadata": {},
   "outputs": [],
   "source": [
    "from langchain_google_genai import ChatGoogleGenerativeAI\n",
    "llm = ChatGoogleGenerativeAI(model = \"gemini-pro\",api_key = GOOGLE_API_KEY)"
   ]
  },
  {
   "cell_type": "code",
   "execution_count": 5,
   "id": "e2dbc39c",
   "metadata": {},
   "outputs": [
    {
     "data": {
      "text/plain": [
       "genai.GenerativeModel(\n",
       "    model_name='models/gemini-pro',\n",
       "    generation_config={},\n",
       "    safety_settings={},\n",
       "    tools=None,\n",
       "    system_instruction=None,\n",
       "    cached_content=None\n",
       ")"
      ]
     },
     "execution_count": 5,
     "metadata": {},
     "output_type": "execute_result"
    }
   ],
   "source": [
    "model = genai.GenerativeModel(model_name = \"gemini-pro\")\n",
    "model"
   ]
  },
  {
   "cell_type": "code",
   "execution_count": 6,
   "id": "ae22a7c8",
   "metadata": {},
   "outputs": [],
   "source": [
    "llm_resto = ChatGoogleGenerativeAI(model = \"gemini-pro\",api_key = GOOGLE_API_KEY)\n",
    "\n",
    "prompt_template_resto = PromptTemplate(\n",
    "    input_variables=['age', 'gender', 'weight', 'height', 'veg_or_nonveg', 'disease', 'region', 'allergics', 'foodtype'],\n",
    "    template=\"Diet Recommendation System:\\n\"\n",
    "             \"I want you to recommend 6 restaurants names, 6 breakfast names, 5 dinner names, and 6 workout names, \"\n",
    "             \"based on the following criteria:\\n\"\n",
    "             \"Person age: {age}\\n\"\n",
    "             \"Person gender: {gender}\\n\"\n",
    "             \"Person weight: {weight}\\n\"\n",
    "             \"Person height: {height}\\n\"\n",
    "             \"Person veg_or_nonveg: {veg_or_nonveg}\\n\"\n",
    "             \"Person generic disease: {disease}\\n\"\n",
    "             \"Person region: {region}\\n\"\n",
    "             \"Person allergics: {allergics}\\n\"\n",
    "             \"Person foodtype: {foodtype}.\"\n",
    ")"
   ]
  },
  {
   "cell_type": "code",
   "execution_count": null,
   "id": "9922cb54",
   "metadata": {},
   "outputs": [],
   "source": [
    "# Updated prompt template with a stricter format\n",
    "prompt_template_resto = PromptTemplate(\n",
    "    input_variables=['age', 'gender', 'weight', 'height', 'veg_or_nonveg', 'disease', 'region', 'allergics', 'foodtype'],\n",
    "    template=\"Based on the following personal information, please generate recommendations:\\n\"\n",
    "             \"- Age: {age}\\n\"\n",
    "             \"- Gender: {gender}\\n\"\n",
    "             \"- Weight: {weight} kg\\n\"\n",
    "             \"- Height: {height} feet\\n\"\n",
    "             \"- Diet preference (veg/non-veg): {veg_or_nonveg}\\n\"\n",
    "             \"- Health condition: {disease}\\n\"\n",
    "             \"- Region: {region}\\n\"\n",
    "             \"- Allergies: {allergics}\\n\"\n",
    "             \"- Preferred food type: {foodtype}\\n\\n\"\n",
    "             \"Please provide:\\n\"\n",
    "             \"1. Six restaurant recommendations suitable for this individual.\\n\"\n",
    "             \"2. Six breakfast options aligned with the individual's preferences and health needs.\\n\"\n",
    "             \"3. Five dinner suggestions suitable for their diet and health conditions.\\n\"\n",
    "             \"4. Six workout suggestions appropriate for their health and fitness level.\\n\\n\"\n",
    "             \"Format your response exactly as follows:\\n\\n\"\n",
    "             \"Restaurants:\\n- Restaurant 1\\n- Restaurant 2\\n...\\n\\n\"\n",
    "             \"Breakfast:\\n- Breakfast 1\\n- Breakfast 2\\n...\\n\\n\"\n",
    "             \"Dinner:\\n- Dinner 1\\n- Dinner 2\\n...\\n\\n\"\n",
    "             \"Workouts:\\n- Workout 1\\n- Workout 2\\n...\"\n",
    ")\n",
    "\n",
    "\n",
    "\n",
    "chain_resto = prompt_template_resto | llm_resto\n",
    "\n",
    "\n",
    "input_data = {\n",
    "    'age': 60,\n",
    "    'gender': 'male',\n",
    "    'weight': 120,\n",
    "    'height': 5,\n",
    "    'veg_or_nonveg': 'veg',\n",
    "    'disease': 'aneamia',\n",
    "    'region': 'Pakistan',\n",
    "    'allergics': 'Latex Allergy',\n",
    "    'foodtype': 'Fruits'\n",
    "}\n",
    "\n",
    "\n",
    "results = chain_resto.invoke(input_data)\n",
    "\n",
    "\n",
    "results_str = str(results)"
   ]
  },
  {
   "cell_type": "code",
   "execution_count": 20,
   "id": "407805a8",
   "metadata": {},
   "outputs": [
    {
     "data": {
      "text/plain": [
       "\"content='**Restaurants:**\\\\n\\\\n- **Mehfil-e-Azeem (Lahore):** Offers a wide variety of vegetarian dishes, including fruits and vegetable platters.\\\\n- **Green Corner (Karachi):** Specializes in healthy vegan and vegetarian cuisine, with a focus on organic and locally sourced ingredients.\\\\n- **Chatkhara (Islamabad):** Serves traditional Pakistani vegetarian dishes, including lentil soups, vegetable curries, and fresh salads.\\\\n- **Fruitilicious (Lahore):** A fruit-themed restaurant offering a range of fruit-based dishes, smoothies, and desserts.\\\\n- **Lasani (Karachi):** Provides a buffet-style dining experience with a large selection of vegetarian options, including salads, curries, and grilled vegetables.\\\\n- **Bhukhara (Islamabad):** Known for its extensive vegetarian menu with options like paneer tikka, vegetable biryani, and dal makhani.\\\\n\\\\n**Breakfast:**\\\\n\\\\n- **Oatmeal with fruit and nuts:** Rich in fiber, antioxidants, and iron, which is beneficial for anemia.\\\\n- **Banana smoothie with spinach:** Provides a good source of iron, potassium, and vitamins.\\\\n- **Vegetable omelet:** Eggs are a good source of protein and iron, while vegetables provide vitamins and minerals.\\\\n- **Fruit salad with yogurt:** Fruits are rich in vitamins and antioxidants, while yogurt provides protein and calcium.\\\\n- **Whole-wheat toast with avocado and sprouts:** Whole-wheat toast provides fiber, while avocado and sprouts are good sources of iron and vitamins.\\\\n- **Idli with sambar:** Idli is a fermented rice and lentil batter dish that is high in protein and iron, while sambar is a vegetable stew that provides vitamins and minerals.\\\\n\\\\n**Dinner:**\\\\n\\\\n- **Lentil soup with whole-wheat bread:** Lentils are a good source of iron and fiber, while whole-wheat bread provides carbohydrates and fiber.\\\\n- **Vegetable stir-fry with brown rice:** Stir-fried vegetables provide vitamins, minerals, and antioxidants, while brown rice is a good source of complex carbohydrates.\\\\n- **Baked potatoes with grilled vegetables:** Potatoes provide carbohydrates and potassium, while grilled vegetables provide vitamins and minerals.\\\\n- **Chickpea curry with quinoa:** Chickpeas are a good source of iron and protein, while quinoa is a high-fiber grain.\\\\n- **Vegetable lasagna:** Lasagna provides carbohydrates and protein, while vegetables provide vitamins and minerals.\\\\n\\\\n**Workouts:**\\\\n\\\\n- **Brisk walking (30 minutes, 3-4 times per week):** Improves cardiovascular health and helps maintain weight.\\\\n- **Swimming (30 minutes, 2-3 times per week):** A low-impact exercise that is easy on the joints and provides a full-body workout.\\\\n- **Chair yoga (30 minutes, 2-3 times per week):** Suitable for beginners and those with limited mobility, improves flexibility and balance.\\\\n- **Resistance band exercises (30 minutes, 2-3 times per week):** Helps build muscle strength and improve mobility.\\\\n- **Tai chi (30 minutes, 2-3 times per week):** A mind-body exercise that improves balance, flexibility, and strength.\\\\n- **Cycling (30 minutes, 2-3 times per week):** A good cardiovascular workout that can be done indoors or outdoors.' additional_kwargs={} response_metadata={'prompt_feedback': {'block_reason': 0, 'safety_ratings': []}, 'finish_reason': 'STOP', 'safety_ratings': [{'category': 'HARM_CATEGORY_SEXUALLY_EXPLICIT', 'probability': 'NEGLIGIBLE', 'blocked': False}, {'category': 'HARM_CATEGORY_HATE_SPEECH', 'probability': 'NEGLIGIBLE', 'blocked': False}, {'category': 'HARM_CATEGORY_HARASSMENT', 'probability': 'NEGLIGIBLE', 'blocked': False}, {'category': 'HARM_CATEGORY_DANGEROUS_CONTENT', 'probability': 'NEGLIGIBLE', 'blocked': False}]} id='run-0729a7a8-f594-4818-a3dd-aef39ded377f-0' usage_metadata={'input_tokens': 206, 'output_tokens': 694, 'total_tokens': 900, 'input_token_details': {'cache_read': 0}}\""
      ]
     },
     "execution_count": 20,
     "metadata": {},
     "output_type": "execute_result"
    }
   ],
   "source": [
    "results_str"
   ]
  },
  {
   "cell_type": "code",
   "execution_count": null,
   "id": "0f38b489",
   "metadata": {},
   "outputs": [
    {
     "name": "stdout",
     "output_type": "stream",
     "text": [
      "content='**Restaurants:**\\n\\n1. **Humaira Hotel:** Serves a variety of vegetarian Pakistani dishes, including traditional favorites like chana masala and daal.\\n2. **Bundoo Khan:** Known for its grilled vegetarian options, such as paneer tikka and vegetable seekh kebabs.\\n3. **Lahore Chatkhara:** Offers a range of vegetarian chaat items, including pani puri and bhelpuri.\\n4. **The Green Kitchen:** Specializes in healthy and nutritious vegetarian cuisine, with a focus on salads, wraps, and smoothies.\\n5. **Cafe Zouk:** A cozy cafe that serves a selection of vegetarian sandwiches, salads, and soups.\\n6. **Tuscany Court:** A fine-dining restaurant with a vegetarian menu featuring Italian and Mediterranean dishes.\\n\\n**Breakfast:**\\n\\n1. **Oatmeal with berries and nuts:** Whole-grain oats provide fiber and energy, while berries add antioxidants and vitamin C. Nuts contribute healthy fats and protein.\\n2. **Fruit smoothie with spinach:** A refreshing and nutrient-rich blend of fruits, spinach, and dairy or plant-based milk.\\n3. **Vegetable omelet with whole-wheat toast:** Eggs provide protein, while vegetables add vitamins and minerals. Whole-wheat toast offers fiber and complex carbohydrates.\\n4. **Vegetarian breakfast burrito:** Whole-wheat tortilla filled with scrambled tofu, vegetables, and salsa.\\n5. **Yogurt with fruit and granola:** Yogurt provides protein and probiotics, while fruit and granola add sweetness and fiber.\\n6. **Fruit salad with cottage cheese:** A refreshing and filling combination of fresh fruits and protein-rich cottage cheese.\\n\\n**Dinner:**\\n\\n1. **Vegetable stir-fry with brown rice:** A flavorful and nutritious dish packed with vegetables, lean protein, and whole grains.\\n2. **Lentil soup with whole-wheat bread:** A hearty and comforting soup rich in protein, fiber, and vitamins.\\n3. **Grilled tofu with roasted vegetables:** Grilled tofu provides plant-based protein, while roasted vegetables add vitamins and antioxidants.\\n4. **Vegetable lasagna:** A vegetarian twist on a classic dish, made with layers of pasta, vegetables, and a creamy sauce.\\n5. **Vegetable curry with roti:** A flavorful and satisfying curry made with a variety of vegetables and spices, served with whole-wheat roti.\\n\\n**Workouts:**\\n\\n1. **Walking:** Aim for at least 30 minutes of brisk walking most days of the week.\\n2. **Swimming:** A low-impact exercise that provides a full-body workout.\\n3. **Cycling:** A cardio exercise that can be done indoors or outdoors.\\n4. **Yoga:** Helps improve flexibility, balance, and strength.\\n5. **Tai chi:** A gentle form of exercise that combines movement and meditation.\\n6. **Strength training:** Incorporate exercises like squats, push-ups, and lunges to build muscle strength and improve overall mobility.' additional_kwargs={} response_metadata={'prompt_feedback': {'block_reason': 0, 'safety_ratings': []}, 'finish_reason': 'STOP', 'safety_ratings': [{'category': 'HARM_CATEGORY_SEXUALLY_EXPLICIT', 'probability': 'NEGLIGIBLE', 'blocked': False}, {'category': 'HARM_CATEGORY_HATE_SPEECH', 'probability': 'NEGLIGIBLE', 'blocked': False}, {'category': 'HARM_CATEGORY_HARASSMENT', 'probability': 'NEGLIGIBLE', 'blocked': False}, {'category': 'HARM_CATEGORY_DANGEROUS_CONTENT', 'probability': 'NEGLIGIBLE', 'blocked': False}]} id='run-7f78c82e-ca2d-45c4-bb4d-ac82f7354701-0' usage_metadata={'input_tokens': 123, 'output_tokens': 604, 'total_tokens': 727, 'input_token_details': {'cache_read': 0}}\n"
     ]
    }
   ],
   "source": [
    "cleaned_results = re.sub(r'\\s*\\n\\s*', '\\n', results_str).strip()\n",
    "\n",
    "print(cleaned_results)\n"
   ]
  },
  {
   "cell_type": "code",
   "execution_count": null,
   "id": "c1dd1be0",
   "metadata": {},
   "outputs": [
    {
     "name": "stdout",
     "output_type": "stream",
     "text": [
      "**Restaurants:**\\n\\n1. **Humaira Hotel:** Serves a variety of vegetarian Pakistani dishes, including traditional favorites like chana masala and daal.\\n2. **Bundoo Khan:** Known for its grilled vegetarian options, such as paneer tikka and vegetable seekh kebabs.\\n3. **Lahore Chatkhara:** Offers a range of vegetarian chaat items, including pani puri and bhelpuri.\\n4. **The Green Kitchen:** Specializes in healthy and nutritious vegetarian cuisine, with a focus on salads, wraps, and smoothies.\\n5. **Cafe Zouk:** A cozy cafe that serves a selection of vegetarian sandwiches, salads, and soups.\\n6. **Tuscany Court:** A fine-dining restaurant with a vegetarian menu featuring Italian and Mediterranean dishes.\\n\\n**Breakfast:**\\n\\n1. **Oatmeal with berries and nuts:** Whole-grain oats provide fiber and energy, while berries add antioxidants and vitamin C. Nuts contribute healthy fats and protein.\\n2. **Fruit smoothie with spinach:** A refreshing and nutrient-rich blend of fruits, spinach, and dairy or plant-based milk.\\n3. **Vegetable omelet with whole-wheat toast:** Eggs provide protein, while vegetables add vitamins and minerals. Whole-wheat toast offers fiber and complex carbohydrates.\\n4. **Vegetarian breakfast burrito:** Whole-wheat tortilla filled with scrambled tofu, vegetables, and salsa.\\n5. **Yogurt with fruit and granola:** Yogurt provides protein and probiotics, while fruit and granola add sweetness and fiber.\\n6. **Fruit salad with cottage cheese:** A refreshing and filling combination of fresh fruits and protein-rich cottage cheese.\\n\\n**Dinner:**\\n\\n1. **Vegetable stir-fry with brown rice:** A flavorful and nutritious dish packed with vegetables, lean protein, and whole grains.\\n2. **Lentil soup with whole-wheat bread:** A hearty and comforting soup rich in protein, fiber, and vitamins.\\n3. **Grilled tofu with roasted vegetables:** Grilled tofu provides plant-based protein, while roasted vegetables add vitamins and antioxidants.\\n4. **Vegetable lasagna:** A vegetarian twist on a classic dish, made with layers of pasta, vegetables, and a creamy sauce.\\n5. **Vegetable curry with roti:** A flavorful and satisfying curry made with a variety of vegetables and spices, served with whole-wheat roti.\\n\\n**Workouts:**\\n\\n1. **Walking:** Aim for at least 30 minutes of brisk walking most days of the week.\\n2. **Swimming:** A low-impact exercise that provides a full-body workout.\\n3. **Cycling:** A cardio exercise that can be done indoors or outdoors.\\n4. **Yoga:** Helps improve flexibility, balance, and strength.\\n5. **Tai chi:** A gentle form of exercise that combines movement and meditation.\\n6. **Strength training:** Incorporate exercises like squats, push-ups, and lunges to build muscle strength and improve overall mobility.'\n"
     ]
    }
   ],
   "source": [
    "content_start = results_str.find('**Restaurants:**')\n",
    "content_end = results_str.find('additional_kwargs')\n",
    "\n"
   ]
  },
  {
   "cell_type": "code",
   "execution_count": 30,
   "id": "cce4bab7",
   "metadata": {},
   "outputs": [
    {
     "name": "stdout",
     "output_type": "stream",
     "text": [
      "Diet Recommendations:\n",
      "=====================\n",
      "\n",
      "**Restaurants:**\n",
      "\n",
      "- The Olives Restaurant (Lahore): Offers a variety of vegetarian dishes rich in iron, such as spinach and lentil soup, and grilled tofu with vegetables.\n",
      "- Savour Foods (Islamabad): Serves a wide selection of healthy and nutritious vegetarian options, including iron-fortified salads and stir-fried vegetables.\n",
      "- La Vie (Karachi): Provides a sophisticated dining experience with a focus on healthy and balanced meals, featuring vegetarian dishes with iron-rich ingredients.\n",
      "- Avari Hotel (Rawalpindi): Offers a buffet with a dedicated vegetarian section, including dishes like iron-rich legumes and leafy greens.\n",
      "- The Pantry (Lahore): Serves a variety of vegetarian dishes with an emphasis on wholesome and nutritious ingredients, such as iron-rich beans and lentils.\n",
      "- Kolachi (Karachi): Offers a variety of seafood dishes that are rich in iron, such as grilled salmon and tuna.\n",
      "\n",
      "**Breakfast:**\n",
      "\n",
      "- Oatmeal with berries, nuts, and seeds: Provides a good source of iron, fiber, and antioxidants.\n",
      "- Spinach and tofu scramble: Offers a high-iron breakfast option with protein from tofu.\n",
      "- Lentil soup with whole-wheat toast: Rich in iron, protein, and fiber.\n",
      "- Fruit salad with fortified cereal: Provides iron from fruit and iron-fortified cereal.\n",
      "- Smoothie made with leafy greens, fruits, and iron-fortified yogurt: A convenient and nutritious way to start the day.\n",
      "- Eggs with whole-wheat toast: Eggs are a good source of iron and protein, while whole-wheat toast provides fiber.\n",
      "\n",
      "**Dinner:**\n",
      "\n",
      "- Vegetable stir-fry with brown rice: Offers a variety of iron-rich vegetables and whole grains.\n",
      "- Lentil soup with whole-wheat pita bread: Provides iron, protein, and fiber.\n",
      "- Tofu curry with quinoa: A plant-based dinner option that is rich in iron and protein.\n",
      "- Grilled salmon with roasted vegetables: Salmon is an excellent source of iron, while roasted vegetables provide fiber and vitamins.\n",
      "- Beans and rice burrito with salsa: Beans and rice are good iron sources, while salsa adds flavor and antioxidants.\n",
      "\n",
      "**Workouts:**\n",
      "\n",
      "- Walking: A gentle and low-impact exercise that can help improve overall fitness and reduce anemia symptoms. Aim for 30 minutes of brisk walking most days of the week.\n",
      "- Swimming: A full-body workout that is easy on the joints and can help improve cardiovascular health.\n",
      "- Cycling: A great way to get cardio and strengthen leg muscles. Start with short rides and gradually increase the distance and intensity.\n",
      "- Yoga: A mind-body practice that can improve flexibility, balance, and overall well-being.\n",
      "- Resistance band exercises: Resistance band exercises can help build strength and improve muscle tone. Focus on exercises that target large muscle groups, such as squats, lunges, and rows.\n",
      "- Tai\n"
     ]
    }
   ],
   "source": [
    "\n",
    "if content_start != -1 and content_end != -1:\n",
    "    content = results_str[content_start:content_end].strip()  # Extract the content\n",
    "\n",
    "    # Print the structured content\n",
    "    print(\"Diet Recommendations:\")\n",
    "    print(\"=====================\\n\")\n",
    "    print(content.replace('\\\\n', '\\n'))  # Replace '\\n' for better formatting\n",
    "\n",
    "else:\n",
    "    print(\"No content found.\")"
   ]
  },
  {
   "cell_type": "code",
   "execution_count": null,
   "id": "7e525d9c",
   "metadata": {},
   "outputs": [],
   "source": []
  }
 ],
 "metadata": {
  "kernelspec": {
   "display_name": "idk_gpu",
   "language": "python",
   "name": "python3"
  },
  "language_info": {
   "codemirror_mode": {
    "name": "ipython",
    "version": 3
   },
   "file_extension": ".py",
   "mimetype": "text/x-python",
   "name": "python",
   "nbconvert_exporter": "python",
   "pygments_lexer": "ipython3",
   "version": "3.10.14"
  }
 },
 "nbformat": 4,
 "nbformat_minor": 5
}
